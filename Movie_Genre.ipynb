{
  "nbformat": 4,
  "nbformat_minor": 0,
  "metadata": {
    "colab": {
      "provenance": []
    },
    "kernelspec": {
      "name": "python3",
      "display_name": "Python 3"
    },
    "language_info": {
      "name": "python"
    }
  },
  "cells": [
    {
      "cell_type": "code",
      "source": [
        "import pandas as pd\n",
        "\n",
        "# Load the data\n",
        "train_df = pd.read_csv('train_data.csv', header=None)\n",
        "test_df = pd.read_csv('test_data.csv', header=None)\n",
        "\n",
        "# Inspect the first few rows to check the structure\n",
        "print(\"Train Data First Row:\", train_df.iloc[0, 0])\n",
        "print(\"Test Data First Row:\", test_df.iloc[0, 0])\n",
        "\n",
        "# Split the data into columns\n",
        "train_split = train_df[0].str.split(' ::: ', expand=True)\n",
        "test_split = test_df[0].str.split(' ::: ', expand=True)\n",
        "\n",
        "# Display the split data to understand the structure\n",
        "print(\"Train Split Columns:\", train_split.columns)\n",
        "print(\"Test Split Columns:\", test_split.columns)\n",
        "\n",
        "# Display the first few rows of the split data\n",
        "print(train_split.head())\n",
        "print(test_split.head())\n"
      ],
      "metadata": {
        "colab": {
          "base_uri": "https://localhost:8080/"
        },
        "id": "jkhHmAOhf2CB",
        "outputId": "ec83ccfc-eb51-4af9-f27d-7eed00d4b8a9"
      },
      "execution_count": 16,
      "outputs": [
        {
          "output_type": "stream",
          "name": "stdout",
          "text": [
            "Train Data First Row: 1 ::: Oscar et la dame rose (2009) ::: drama ::: Listening in to a conversation between his doctor and parents, 10-year-old Oscar learns what nobody has the courage to tell him. He only has a few weeks to live. Furious, he refuses to speak to anyone except straight-talking Rose, the lady in pink he meets on the hospital stairs. As Christmas approaches, Rose uses her fantastical experiences as a professional wrestler, her imagination, wit and charm to allow Oscar to live life and love to the full, in the company of his friends Pop Corn, Einstein, Bacon and childhood sweetheart Peggy Blue.\n",
            "Test Data First Row: 1 ::: Edgar's Lunch (1998) ::: L.R. Brane loves his life - his car, his apartment, his job, but especially his girlfriend, Vespa. One day while showering, Vespa runs out of shampoo. L.R. runs across the street to a convenience store to buy some more, a quick trip of no more than a few minutes. When he returns, Vespa is gone and every trace of her existence has been wiped out. L.R.'s life becomes a tortured existence as one strange event after another occurs to confirm in his mind that a conspiracy is working against his finding Vespa.\n",
            "Train Split Columns: RangeIndex(start=0, stop=4, step=1)\n",
            "Test Split Columns: RangeIndex(start=0, stop=3, step=1)\n",
            "   0                                 1         2  \\\n",
            "0  1      Oscar et la dame rose (2009)     drama   \n",
            "1  2                      Cupid (1997)  thriller   \n",
            "2  3  Young, Wild and Wonderful (1980)     adult   \n",
            "3  4             The Secret Sin (1915)     drama   \n",
            "4  5            The Unrecovered (2007)     drama   \n",
            "\n",
            "                                                   3  \n",
            "0  Listening in to a conversation between his doc...  \n",
            "1  A brother and sister with a past incestuous re...  \n",
            "2  As the bus empties the students for their fiel...  \n",
            "3  To help their unemployed father make ends meet...  \n",
            "4  The film's title refers not only to the un-rec...  \n",
            "   0                            1  \\\n",
            "0  1         Edgar's Lunch (1998)   \n",
            "1  2     La guerra de papá (1977)   \n",
            "2  3  Off the Beaten Track (2010)   \n",
            "3  4       Meu Amigo Hindu (2015)   \n",
            "4  5            Er nu zhai (1955)   \n",
            "\n",
            "                                                   2  \n",
            "0  L.R. Brane loves his life - his car, his apart...  \n",
            "1  Spain, March 1964: Quico is a very naughty chi...  \n",
            "2  One year in the life of Albin and his family o...  \n",
            "3  His father has died, he hasn't spoken with his...  \n",
            "4  Before he was known internationally as a marti...  \n"
          ]
        }
      ]
    },
    {
      "cell_type": "code",
      "source": [
        "# Assign column names\n",
        "train_split.columns = ['Index', 'Title_Year', 'Genre', 'Plot']\n",
        "test_split.columns = ['Index', 'Title_Year', 'Plot']\n",
        "\n",
        "# Further split 'Title_Year' into 'Title' and 'Year'\n",
        "train_split[['Title', 'Year']] = train_split['Title_Year'].str.extract(r'(.+) \\((\\d{4})\\)')\n",
        "test_split[['Title', 'Year']] = test_split['Title_Year'].str.extract(r'(.+) \\((\\d{4})\\)')\n",
        "\n",
        "# Drop the 'Title_Year' column as it is now split\n",
        "train_split = train_split.drop(columns=['Title_Year'])\n",
        "test_split = test_split.drop(columns=['Title_Year'])\n",
        "\n",
        "# Display the first few rows of the cleaned training data\n",
        "print(train_split.head())\n",
        "print(test_split.head())\n"
      ],
      "metadata": {
        "colab": {
          "base_uri": "https://localhost:8080/"
        },
        "id": "LwDW9PZ9hBif",
        "outputId": "9b6d06c6-dbf1-4d69-b2fd-06e193b43e06"
      },
      "execution_count": 17,
      "outputs": [
        {
          "output_type": "stream",
          "name": "stdout",
          "text": [
            "  Index     Genre                                               Plot  \\\n",
            "0     1     drama  Listening in to a conversation between his doc...   \n",
            "1     2  thriller  A brother and sister with a past incestuous re...   \n",
            "2     3     adult  As the bus empties the students for their fiel...   \n",
            "3     4     drama  To help their unemployed father make ends meet...   \n",
            "4     5     drama  The film's title refers not only to the un-rec...   \n",
            "\n",
            "                       Title  Year  \n",
            "0      Oscar et la dame rose  2009  \n",
            "1                      Cupid  1997  \n",
            "2  Young, Wild and Wonderful  1980  \n",
            "3             The Secret Sin  1915  \n",
            "4            The Unrecovered  2007  \n",
            "  Index                                               Plot  \\\n",
            "0     1  L.R. Brane loves his life - his car, his apart...   \n",
            "1     2  Spain, March 1964: Quico is a very naughty chi...   \n",
            "2     3  One year in the life of Albin and his family o...   \n",
            "3     4  His father has died, he hasn't spoken with his...   \n",
            "4     5  Before he was known internationally as a marti...   \n",
            "\n",
            "                  Title  Year  \n",
            "0         Edgar's Lunch  1998  \n",
            "1     La guerra de papá  1977  \n",
            "2  Off the Beaten Track  2010  \n",
            "3       Meu Amigo Hindu  2015  \n",
            "4            Er nu zhai  1955  \n"
          ]
        }
      ]
    },
    {
      "cell_type": "code",
      "source": [
        "import re\n",
        "import nltk\n",
        "from nltk.corpus import stopwords\n",
        "from nltk.stem import WordNetLemmatizer\n",
        "\n",
        "# Download necessary NLTK data\n",
        "nltk.download('stopwords')\n",
        "nltk.download('wordnet')\n",
        "\n",
        "# Initialize the lemmatizer\n",
        "lemmatizer = WordNetLemmatizer()\n",
        "\n",
        "# Define a function to clean and preprocess text\n",
        "def preprocess_text(text):\n",
        "    # Remove non-alphanumeric characters\n",
        "    text = re.sub(r'\\W', ' ', text)\n",
        "    # Convert to lowercase\n",
        "    text = text.lower()\n",
        "    # Remove stopwords\n",
        "    stop_words = set(stopwords.words('english'))\n",
        "    words = text.split()\n",
        "    words = [lemmatizer.lemmatize(word) for word in words if word not in stop_words]\n",
        "    # Join words back into a single string\n",
        "    return ' '.join(words)\n",
        "\n",
        "# Apply the preprocessing function to the plot summaries\n",
        "train_split['Cleaned_Plot'] = train_split['Plot'].apply(preprocess_text)\n",
        "test_split['Cleaned_Plot'] = test_split['Plot'].apply(preprocess_text)\n",
        "\n",
        "# Display the first few rows of the cleaned training data\n",
        "print(train_split.head())\n",
        "print(test_split.head())\n"
      ],
      "metadata": {
        "colab": {
          "base_uri": "https://localhost:8080/"
        },
        "id": "oYxOwUoNf5Dl",
        "outputId": "3f1eeea6-035e-4ec3-a1c7-79cc7ab37f7a"
      },
      "execution_count": 18,
      "outputs": [
        {
          "output_type": "stream",
          "name": "stderr",
          "text": [
            "[nltk_data] Downloading package stopwords to /root/nltk_data...\n",
            "[nltk_data]   Package stopwords is already up-to-date!\n",
            "[nltk_data] Downloading package wordnet to /root/nltk_data...\n",
            "[nltk_data]   Package wordnet is already up-to-date!\n"
          ]
        },
        {
          "output_type": "stream",
          "name": "stdout",
          "text": [
            "  Index     Genre                                               Plot  \\\n",
            "0     1     drama  Listening in to a conversation between his doc...   \n",
            "1     2  thriller  A brother and sister with a past incestuous re...   \n",
            "2     3     adult  As the bus empties the students for their fiel...   \n",
            "3     4     drama  To help their unemployed father make ends meet...   \n",
            "4     5     drama  The film's title refers not only to the un-rec...   \n",
            "\n",
            "                       Title  Year  \\\n",
            "0      Oscar et la dame rose  2009   \n",
            "1                      Cupid  1997   \n",
            "2  Young, Wild and Wonderful  1980   \n",
            "3             The Secret Sin  1915   \n",
            "4            The Unrecovered  2007   \n",
            "\n",
            "                                        Cleaned_Plot  \n",
            "0  listening conversation doctor parent 10 year o...  \n",
            "1  brother sister past incestuous relationship cu...  \n",
            "2  bus empty student field trip museum natural hi...  \n",
            "3  help unemployed father make end meet edith twi...  \n",
            "4  film title refers un recovered body ground zer...  \n",
            "  Index                                               Plot  \\\n",
            "0     1  L.R. Brane loves his life - his car, his apart...   \n",
            "1     2  Spain, March 1964: Quico is a very naughty chi...   \n",
            "2     3  One year in the life of Albin and his family o...   \n",
            "3     4  His father has died, he hasn't spoken with his...   \n",
            "4     5  Before he was known internationally as a marti...   \n",
            "\n",
            "                  Title  Year  \\\n",
            "0         Edgar's Lunch  1998   \n",
            "1     La guerra de papá  1977   \n",
            "2  Off the Beaten Track  2010   \n",
            "3       Meu Amigo Hindu  2015   \n",
            "4            Er nu zhai  1955   \n",
            "\n",
            "                                        Cleaned_Plot  \n",
            "0  l r brane love life car apartment job especial...  \n",
            "1  spain march 1964 quico naughty child three bel...  \n",
            "2  one year life albin family shepherd north tran...  \n",
            "3  father died spoken brother 10 year serious can...  \n",
            "4  known internationally martial art superstar br...  \n"
          ]
        }
      ]
    },
    {
      "cell_type": "code",
      "source": [
        "from sklearn.feature_extraction.text import TfidfVectorizer\n",
        "\n",
        "# Initialize TF-IDF Vectorizer\n",
        "tfidf_vectorizer = TfidfVectorizer(max_features=5000)\n",
        "\n",
        "# Fit and transform the training data\n",
        "X_train = tfidf_vectorizer.fit_transform(train_split['Cleaned_Plot'])\n",
        "\n",
        "# Transform the test data\n",
        "X_test = tfidf_vectorizer.transform(test_split['Cleaned_Plot'])\n",
        "\n",
        "# Display the shape of the transformed data\n",
        "print(X_train.shape)\n",
        "print(X_test.shape)\n"
      ],
      "metadata": {
        "colab": {
          "base_uri": "https://localhost:8080/"
        },
        "id": "7OT_KbQPhYjv",
        "outputId": "5f2d57e0-5148-411e-c22c-875907917cb5"
      },
      "execution_count": 19,
      "outputs": [
        {
          "output_type": "stream",
          "name": "stdout",
          "text": [
            "(54214, 5000)\n",
            "(54200, 5000)\n"
          ]
        }
      ]
    },
    {
      "cell_type": "code",
      "source": [
        "from sklearn.linear_model import LogisticRegression\n",
        "\n",
        "y_train = train_split['Genre']\n",
        "\n",
        "# Initialize the model\n",
        "model = LogisticRegression(max_iter=1000)\n",
        "\n",
        "# Train the model\n",
        "model.fit(X_train, y_train)\n"
      ],
      "metadata": {
        "colab": {
          "base_uri": "https://localhost:8080/",
          "height": 74
        },
        "id": "ROPeMP6RhpBL",
        "outputId": "3572599c-d2e5-47b8-ada4-ad2ba950a689"
      },
      "execution_count": 20,
      "outputs": [
        {
          "output_type": "execute_result",
          "data": {
            "text/plain": [
              "LogisticRegression(max_iter=1000)"
            ],
            "text/html": [
              "<style>#sk-container-id-1 {color: black;background-color: white;}#sk-container-id-1 pre{padding: 0;}#sk-container-id-1 div.sk-toggleable {background-color: white;}#sk-container-id-1 label.sk-toggleable__label {cursor: pointer;display: block;width: 100%;margin-bottom: 0;padding: 0.3em;box-sizing: border-box;text-align: center;}#sk-container-id-1 label.sk-toggleable__label-arrow:before {content: \"▸\";float: left;margin-right: 0.25em;color: #696969;}#sk-container-id-1 label.sk-toggleable__label-arrow:hover:before {color: black;}#sk-container-id-1 div.sk-estimator:hover label.sk-toggleable__label-arrow:before {color: black;}#sk-container-id-1 div.sk-toggleable__content {max-height: 0;max-width: 0;overflow: hidden;text-align: left;background-color: #f0f8ff;}#sk-container-id-1 div.sk-toggleable__content pre {margin: 0.2em;color: black;border-radius: 0.25em;background-color: #f0f8ff;}#sk-container-id-1 input.sk-toggleable__control:checked~div.sk-toggleable__content {max-height: 200px;max-width: 100%;overflow: auto;}#sk-container-id-1 input.sk-toggleable__control:checked~label.sk-toggleable__label-arrow:before {content: \"▾\";}#sk-container-id-1 div.sk-estimator input.sk-toggleable__control:checked~label.sk-toggleable__label {background-color: #d4ebff;}#sk-container-id-1 div.sk-label input.sk-toggleable__control:checked~label.sk-toggleable__label {background-color: #d4ebff;}#sk-container-id-1 input.sk-hidden--visually {border: 0;clip: rect(1px 1px 1px 1px);clip: rect(1px, 1px, 1px, 1px);height: 1px;margin: -1px;overflow: hidden;padding: 0;position: absolute;width: 1px;}#sk-container-id-1 div.sk-estimator {font-family: monospace;background-color: #f0f8ff;border: 1px dotted black;border-radius: 0.25em;box-sizing: border-box;margin-bottom: 0.5em;}#sk-container-id-1 div.sk-estimator:hover {background-color: #d4ebff;}#sk-container-id-1 div.sk-parallel-item::after {content: \"\";width: 100%;border-bottom: 1px solid gray;flex-grow: 1;}#sk-container-id-1 div.sk-label:hover label.sk-toggleable__label {background-color: #d4ebff;}#sk-container-id-1 div.sk-serial::before {content: \"\";position: absolute;border-left: 1px solid gray;box-sizing: border-box;top: 0;bottom: 0;left: 50%;z-index: 0;}#sk-container-id-1 div.sk-serial {display: flex;flex-direction: column;align-items: center;background-color: white;padding-right: 0.2em;padding-left: 0.2em;position: relative;}#sk-container-id-1 div.sk-item {position: relative;z-index: 1;}#sk-container-id-1 div.sk-parallel {display: flex;align-items: stretch;justify-content: center;background-color: white;position: relative;}#sk-container-id-1 div.sk-item::before, #sk-container-id-1 div.sk-parallel-item::before {content: \"\";position: absolute;border-left: 1px solid gray;box-sizing: border-box;top: 0;bottom: 0;left: 50%;z-index: -1;}#sk-container-id-1 div.sk-parallel-item {display: flex;flex-direction: column;z-index: 1;position: relative;background-color: white;}#sk-container-id-1 div.sk-parallel-item:first-child::after {align-self: flex-end;width: 50%;}#sk-container-id-1 div.sk-parallel-item:last-child::after {align-self: flex-start;width: 50%;}#sk-container-id-1 div.sk-parallel-item:only-child::after {width: 0;}#sk-container-id-1 div.sk-dashed-wrapped {border: 1px dashed gray;margin: 0 0.4em 0.5em 0.4em;box-sizing: border-box;padding-bottom: 0.4em;background-color: white;}#sk-container-id-1 div.sk-label label {font-family: monospace;font-weight: bold;display: inline-block;line-height: 1.2em;}#sk-container-id-1 div.sk-label-container {text-align: center;}#sk-container-id-1 div.sk-container {/* jupyter's `normalize.less` sets `[hidden] { display: none; }` but bootstrap.min.css set `[hidden] { display: none !important; }` so we also need the `!important` here to be able to override the default hidden behavior on the sphinx rendered scikit-learn.org. See: https://github.com/scikit-learn/scikit-learn/issues/21755 */display: inline-block !important;position: relative;}#sk-container-id-1 div.sk-text-repr-fallback {display: none;}</style><div id=\"sk-container-id-1\" class=\"sk-top-container\"><div class=\"sk-text-repr-fallback\"><pre>LogisticRegression(max_iter=1000)</pre><b>In a Jupyter environment, please rerun this cell to show the HTML representation or trust the notebook. <br />On GitHub, the HTML representation is unable to render, please try loading this page with nbviewer.org.</b></div><div class=\"sk-container\" hidden><div class=\"sk-item\"><div class=\"sk-estimator sk-toggleable\"><input class=\"sk-toggleable__control sk-hidden--visually\" id=\"sk-estimator-id-1\" type=\"checkbox\" checked><label for=\"sk-estimator-id-1\" class=\"sk-toggleable__label sk-toggleable__label-arrow\">LogisticRegression</label><div class=\"sk-toggleable__content\"><pre>LogisticRegression(max_iter=1000)</pre></div></div></div></div></div>"
            ]
          },
          "metadata": {},
          "execution_count": 20
        }
      ]
    },
    {
      "cell_type": "code",
      "source": [
        "# Predict on the test data\n",
        "y_pred = model.predict(X_test)\n",
        "\n",
        "# Display the predictions\n",
        "print(\"Predicted genres for the test data:\", y_pred)\n"
      ],
      "metadata": {
        "colab": {
          "base_uri": "https://localhost:8080/"
        },
        "id": "DH2iw6WYh-uf",
        "outputId": "57073b57-491f-44ed-eba9-7c666d1aa267"
      },
      "execution_count": 21,
      "outputs": [
        {
          "output_type": "stream",
          "name": "stdout",
          "text": [
            "Predicted genres for the test data: ['drama' 'drama' 'documentary' ... 'comedy' 'drama' 'documentary']\n"
          ]
        }
      ]
    }
  ]
}